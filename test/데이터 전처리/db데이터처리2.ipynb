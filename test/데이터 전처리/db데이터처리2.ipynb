{
 "cells": [
  {
   "cell_type": "code",
   "execution_count": 26,
   "metadata": {},
   "outputs": [],
   "source": [
    "import sys\n",
    "sys.path.append('C:/big18/final/test/DB/')\n",
    "import DBconnection as db\n",
    "import pandas as pd\n",
    "import numpy as np\n",
    "from tqdm import tqdm\n",
    "from datetime import datetime, timedelta\n",
    "\n",
    "def get_vector_list(code):\n",
    "    data = db.execute_query(code)\n",
    "    data.sort_values(['Jdate'],ascending=1, inplace=True)\n",
    "    print(data['Jdate'][0])\n",
    "    df = data[['code','종가','매수량','매도량']]\n",
    "\n",
    "    def divide_volumes(row):\n",
    "        try:\n",
    "            divisor = db.get_stock_share(code)\n",
    "            row['power'] = row['매수량'] - row['매도량']\n",
    "            row['power'] = row['power']*1000000 / divisor\n",
    "        except KeyError:\n",
    "            print(f\"코드 {row['code']}를 찾지 못했습니다.\")\n",
    "            input()\n",
    "        return row\n",
    "\n",
    "    df = divide_volumes(df)\n",
    "\n",
    "    # 데이터 로드\n",
    "    df=df[['code','종가', 'power']]\n",
    "    df.rename(columns={'종가' : 'close'}, inplace=True)\n",
    "\n",
    "    # 결과를 저장할 리스트\n",
    "    results = []\n",
    "\n",
    "    for i in range(2):\n",
    "        # 벡터화하여 연산\n",
    "        vectorList = []\n",
    "        diff = (df['close'].values[i:i+9] - df['close'].values[i+1:i+10]) / df['close'].values[i:i+9] * 10000\n",
    "        vectorList.extend(round(d, 4) for d in diff)\n",
    "        diff = (df['power'].values[i:i+9] - df['power'].values[i+1:i+10])\n",
    "        vectorList.extend(round(d, 2) for d in diff)\n",
    "\n",
    "        results.append(vectorList)\n",
    "\n",
    "    # 결과를 DataFrame으로 변환\n",
    "    results_df = pd.DataFrame(results)\n",
    "    return results_df\n"
   ]
  }
 ],
 "metadata": {
  "kernelspec": {
   "display_name": "dl-dev",
   "language": "python",
   "name": "python3"
  },
  "language_info": {
   "codemirror_mode": {
    "name": "ipython",
    "version": 3
   },
   "file_extension": ".py",
   "mimetype": "text/x-python",
   "name": "python",
   "nbconvert_exporter": "python",
   "pygments_lexer": "ipython3",
   "version": "3.8.19"
  }
 },
 "nbformat": 4,
 "nbformat_minor": 2
}
